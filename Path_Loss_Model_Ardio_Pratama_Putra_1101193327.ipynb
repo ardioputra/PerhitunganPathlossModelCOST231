{
  "nbformat": 4,
  "nbformat_minor": 0,
  "metadata": {
    "colab": {
      "name": "Path Loss Model_Ardio Pratama Putra_1101193327.ipynb",
      "provenance": [],
      "collapsed_sections": [],
      "authorship_tag": "ABX9TyNfLnatB4GlAE/gFMvuE0w8",
      "include_colab_link": true
    },
    "kernelspec": {
      "name": "python3",
      "display_name": "Python 3"
    }
  },
  "cells": [
    {
      "cell_type": "markdown",
      "metadata": {
        "id": "view-in-github",
        "colab_type": "text"
      },
      "source": [
        "<a href=\"https://colab.research.google.com/github/doxxa11/PerhitunganPathlossModelCOST231/blob/main/Path_Loss_Model_Ardio_Pratama_Putra_1101193327.ipynb\" target=\"_parent\"><img src=\"https://colab.research.google.com/assets/colab-badge.svg\" alt=\"Open In Colab\"/></a>"
      ]
    },
    {
      "cell_type": "markdown",
      "metadata": {
        "id": "m6CDsCKcMWIK"
      },
      "source": [
        "**Tugas Minggu 12**\r\n",
        "\r\n",
        "\r\n",
        "*Mengkalkulasi perhitungan pathloss model COST 231*\r\n",
        "\r\n",
        "oleh\r\n",
        "\r\n",
        "Ardio Pratama Putra\r\n",
        "\r\n",
        "1101193327\r\n",
        "\r\n",
        "\r\n"
      ]
    },
    {
      "cell_type": "code",
      "metadata": {
        "id": "uF9sVZWr6LkU"
      },
      "source": [
        "import numpy as np"
      ],
      "execution_count": 26,
      "outputs": []
    },
    {
      "cell_type": "code",
      "metadata": {
        "id": "drbO6bih61EG"
      },
      "source": [
        "#konversi sederhana menjadi satuan baku\r\n",
        "mth = 10**6\r\n",
        "ktm = 10**3"
      ],
      "execution_count": 27,
      "outputs": []
    },
    {
      "cell_type": "code",
      "metadata": {
        "id": "NY0p5sAC61BX"
      },
      "source": [
        "#Mendefinisikan fungsi perhitungan path loss COST 231 \r\n",
        "#Dengan parameter jarak, frekuensi,tipe area, tinggi antena pemancar dan penerima\r\n",
        "\r\n",
        "def pathlossmod(d, fc, area, pem, pen):\r\n",
        "  \r\n",
        "  #Sinkronisasi variabel c1 dan c2 terhadap fc\r\n",
        "  if (400*mth<=fc<=1500*mth):\r\n",
        "    c1 = 69.55\r\n",
        "    c2 = 26.16\r\n",
        "  elif (1500*mth<fc<=2000*mth):\r\n",
        "    c1 = 46.3\r\n",
        "    c2 = 33.9\r\n",
        "\r\n",
        "  #Penentuan area yang diinginkan\r\n",
        "  if (area == \"Urban\"): #Daerah Urban\r\n",
        "    Cm = 0\r\n",
        "  elif (area == \"Suburban\"): #Daerah Suburban\r\n",
        "    Cm = (-2*((np.log10(fc/28))**2))-5.4\r\n",
        "  elif (area == \"Open\"): #Daerah Open\r\n",
        "    Cm = (-4.78*((np.log10(fc))**2))+18.33*np.log10(fc)-40.94\r\n",
        "\r\n",
        "  #rumus kalkulasi\r\n",
        "  apen = (1.1*np.log10(fc) - 0.7)*pen - (1.56*np.log10(fc) - 0.8)\r\n",
        "  losspath = c1 + c2*np.log10(fc) - 13.83*np.log10(pem) - apen + (44.9-6.55*np.log10(pem))*np.log(d) + Cm\r\n",
        "  return losspath"
      ],
      "execution_count": 31,
      "outputs": []
    },
    {
      "cell_type": "code",
      "metadata": {
        "colab": {
          "base_uri": "https://localhost:8080/"
        },
        "id": "BZKjbXP6AX10",
        "outputId": "0b7bff63-521a-49f0-ef3d-ea463fd7d76a"
      },
      "source": [
        "#Masukan nilai yang diinginkan\r\n",
        "jarak = 25              #dalam kilometer\r\n",
        "frekuensi = 500         #dalam Megahertz\r\n",
        "tipe_area = \"Suburban\"  #Pilihan tipe area = Urban,Suburban,Open\r\n",
        "tinggi_pemancar = 150   #dalam meter\r\n",
        "tinggi_penerima = 25    #dalam meter\r\n",
        "\r\n",
        "#Melakukan kalkulasi\r\n",
        "plm = pathlossmod(jarak*ktm,frekuensi*mth,tipe_area,tinggi_pemancar,tinggi_penerima)\r\n",
        "print(\"Maka Pathloss COST 231 sebesar\",plm,\"dB\")\r\n",
        "print(\"Apabila dibulatkan menjadi\",round(plm),\"dB\")"
      ],
      "execution_count": 37,
      "outputs": [
        {
          "output_type": "stream",
          "text": [
            "Maka Pathloss COST 231 sebesar 257.83771310933736 dB\n",
            "Apabila dibulatkan menjadi 258.0 dB\n"
          ],
          "name": "stdout"
        }
      ]
    }
  ]
}